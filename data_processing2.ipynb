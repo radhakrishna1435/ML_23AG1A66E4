{
  "nbformat": 4,
  "nbformat_minor": 0,
  "metadata": {
    "colab": {
      "provenance": [],
      "authorship_tag": "ABX9TyNn9sHlF18AraNH256Q7FHW",
      "include_colab_link": true
    },
    "kernelspec": {
      "name": "python3",
      "display_name": "Python 3"
    },
    "language_info": {
      "name": "python"
    }
  },
  "cells": [
    {
      "cell_type": "markdown",
      "metadata": {
        "id": "view-in-github",
        "colab_type": "text"
      },
      "source": [
        "<a href=\"https://colab.research.google.com/github/radhakrishna1435/ML_23AG1A66E4/blob/main/data_processing2.ipynb\" target=\"_parent\"><img src=\"https://colab.research.google.com/assets/colab-badge.svg\" alt=\"Open In Colab\"/></a>"
      ]
    },
    {
      "cell_type": "code",
      "execution_count": 1,
      "metadata": {
        "colab": {
          "base_uri": "https://localhost:8080/"
        },
        "id": "FdzblO8KcLB3",
        "outputId": "92e71e06-b9fd-4cb1-c470-74c897024cb4"
      },
      "outputs": [
        {
          "output_type": "stream",
          "name": "stdout",
          "text": [
            "Name      object\n",
            "Age       object\n",
            "Salary    object\n",
            "dtype: object\n"
          ]
        }
      ],
      "source": [
        "import pandas as pd\n",
        "\n",
        "df = pd.DataFrame({\n",
        "    'Name': ['John', 'Alice'],\n",
        "    'Age': ['25', '30'],\n",
        "    'Salary': ['50000', '55000']\n",
        "})\n",
        "print(df.dtypes)"
      ]
    },
    {
      "cell_type": "code",
      "source": [
        "df['Age'] = df['Age'].astype(int)\n",
        "df['Salary'] = df['Salary'].astype(float)\n",
        "print(df.dtypes)"
      ],
      "metadata": {
        "colab": {
          "base_uri": "https://localhost:8080/"
        },
        "id": "3GYGJt14dDar",
        "outputId": "56fd370c-e936-4f02-9a2b-39e2b6b6e292"
      },
      "execution_count": 3,
      "outputs": [
        {
          "output_type": "stream",
          "name": "stdout",
          "text": [
            "Name       object\n",
            "Age         int64\n",
            "Salary    float64\n",
            "dtype: object\n"
          ]
        }
      ]
    },
    {
      "cell_type": "code",
      "source": [
        "import pandas as pd\n",
        "df=pd.read_csv('/content/STUDENT DATA.csv')\n",
        "print(df)\n"
      ],
      "metadata": {
        "colab": {
          "base_uri": "https://localhost:8080/"
        },
        "id": "KrhRKQWzjac-",
        "outputId": "cb3466b0-e078-4cd3-dfed-cf818f3dcce9"
      },
      "execution_count": 33,
      "outputs": [
        {
          "output_type": "stream",
          "name": "stdout",
          "text": [
            "    Name   age gender  marks     city\n",
            "0  ailce  18.0      F   85.0   London\n",
            "1    bob   NaN      M   90.0  Newyork\n",
            "2  cathy  19.0      F   99.0      NaN\n",
            "3  david  17.0      M   72.0   Sydney\n",
            "4    eva  18.0      F    NaN   London\n"
          ]
        }
      ]
    },
    {
      "cell_type": "code",
      "source": [
        "df = pd.get_dummies(df,columns=['city'])\n",
        "print(df)"
      ],
      "metadata": {
        "colab": {
          "base_uri": "https://localhost:8080/"
        },
        "id": "irUyxDUKkcVt",
        "outputId": "6d8ae1cc-6d08-40e8-ce7f-389c4fbcdd13"
      },
      "execution_count": 36,
      "outputs": [
        {
          "output_type": "stream",
          "name": "stdout",
          "text": [
            "    Name   age gender  marks  city_London  city_Newyork  city_Sydney\n",
            "0  ailce  18.0      F   85.0         True         False        False\n",
            "1    bob   NaN      M   90.0        False          True        False\n",
            "2  cathy  19.0      F   99.0        False         False        False\n",
            "3  david  17.0      M   72.0        False         False         True\n",
            "4    eva  18.0      F    NaN         True         False        False\n"
          ]
        }
      ]
    }
  ]
}